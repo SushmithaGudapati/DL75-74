{
  "cells": [
    {
      "cell_type": "code",
      "execution_count": null,
      "metadata": {
        "id": "Ylfgc4VxUOrz"
      },
      "outputs": [],
      "source": [
        "import pandas as pd\n",
        "import numpy as np\n",
        "from sklearn.model_selection import train_test_split\n",
        "from sklearn.preprocessing import LabelEncoder, StandardScaler\n",
        "from keras.models import Sequential\n",
        "from keras.layers import LSTM, Dense, Dropout"
      ]
    },
    {
      "cell_type": "code",
      "execution_count": null,
      "metadata": {
        "id": "XXjESiyYgS_X"
      },
      "outputs": [],
      "source": [
        "# Load the dataset\n",
        "df = pd.read_csv(\"New.csv\")"
      ]
    },
    {
      "cell_type": "code",
      "source": [
        "# Check for missing values\n",
        "print(df.isnull().sum())\n",
        "# Impute missing values with mode for categorical features\n",
        "df['Habits'].fillna(df['Habits'].mode()[0], inplace=True)"
      ],
      "metadata": {
        "id": "vUjkRxSadTXB",
        "colab": {
          "base_uri": "https://localhost:8080/"
        },
        "outputId": "c8cf1f48-68d6-4f4d-992f-afce6821a359"
      },
      "execution_count": null,
      "outputs": [
        {
          "output_type": "stream",
          "name": "stdout",
          "text": [
            "Age               0\n",
            "Disease           0\n",
            "Symptom_1         0\n",
            "Symptom_2         0\n",
            "Symptom_3         0\n",
            "Symptom_4      1034\n",
            "Symptom_5      3599\n",
            "Symptom_6      5954\n",
            "Symptom_7      7956\n",
            "Symptom_8      8914\n",
            "Symptom_9      9681\n",
            "Symptom_10    10224\n",
            "Symptom_11    11169\n",
            "Symptom_12    12518\n",
            "Symptom_13    13244\n",
            "Symptom_14    13842\n",
            "Symptom_15    14038\n",
            "Symptom_16    14182\n",
            "Symptom_17    14543\n",
            "Habits            1\n",
            "Severity          1\n",
            "dtype: int64\n"
          ]
        }
      ]
    },
    {
      "cell_type": "code",
      "source": [
        "# Fill missing values in symptoms columns with NaN\n",
        "symptoms_columns = ['Symptom_4', 'Symptom_5', 'Symptom_6', 'Symptom_7', 'Symptom_8',\n",
        "                    'Symptom_9', 'Symptom_10', 'Symptom_11', 'Symptom_12', 'Symptom_13',\n",
        "                    'Symptom_14', 'Symptom_15', 'Symptom_16', 'Symptom_17']\n",
        "\n",
        "df[symptoms_columns] = df[symptoms_columns].fillna(np.nan)"
      ],
      "metadata": {
        "id": "i3AEroI-d6eP"
      },
      "execution_count": null,
      "outputs": []
    },
    {
      "cell_type": "code",
      "execution_count": null,
      "metadata": {
        "id": "S41BE-idomh2",
        "colab": {
          "base_uri": "https://localhost:8080/"
        },
        "outputId": "350df776-21d7-4d9e-a578-ad0218e2e5fb"
      },
      "outputs": [
        {
          "output_type": "execute_result",
          "data": {
            "text/plain": [
              "array(['Fungal infection', 'Allergy', 'GERD', 'Chronic cholestasis',\n",
              "       'Drug Reaction', 'Peptic ulcer diseae', 'AIDS', 'Diabetes',\n",
              "       'Gastroenteritis', 'Bronchial Asthma', 'Hypertension', 'Migraine',\n",
              "       'Cervical spondylosis', 'Paralysis (brain hemorrhage)', 'Jaundice',\n",
              "       'Malaria', 'Chicken pox', 'Dengue', 'Typhoid', 'hepatitis A',\n",
              "       'Hepatitis B', 'Hepatitis C', 'Hepatitis D', 'Hepatitis E',\n",
              "       'Alcoholic hepatitis', 'Tuberculosis', 'Common Cold', 'Pneumonia',\n",
              "       'Dimorphic hemmorhoids(piles)', 'Heart attack', 'Varicose veins',\n",
              "       'Hypothyroidism', 'Hyperthyroidism', 'Hypoglycemia',\n",
              "       'Osteoarthristis', 'Arthritis',\n",
              "       '(vertigo) Paroymsal  Positional Vertigo', 'Acne',\n",
              "       'Urinary tract infection', 'Psoriasis', 'Impetigo'], dtype=object)"
            ]
          },
          "metadata": {},
          "execution_count": 8
        }
      ],
      "source": [
        "df['Disease'].unique()"
      ]
    },
    {
      "cell_type": "code",
      "execution_count": null,
      "metadata": {
        "id": "xb-uos57gXyc"
      },
      "outputs": [],
      "source": [
        "X = df[['Age', 'Symptom_1', 'Symptom_2','Symptom_3','Symptom_4','Symptom_5','Symptom_6','Symptom_7','Symptom_8','Symptom_9','Symptom_10','Symptom_11','Symptom_12','Symptom_13','Symptom_14','Symptom_15','Symptom_16', 'Symptom_17', 'Habits']]\n",
        "y = df['Severity']"
      ]
    },
    {
      "cell_type": "code",
      "execution_count": null,
      "metadata": {
        "id": "-sO99b8ugbmk",
        "colab": {
          "base_uri": "https://localhost:8080/"
        },
        "outputId": "f5e68598-ecfb-452d-b248-656ba11452a6"
      },
      "outputs": [
        {
          "output_type": "stream",
          "name": "stderr",
          "text": [
            "<ipython-input-10-2001446a22de>:3: SettingWithCopyWarning: \n",
            "A value is trying to be set on a copy of a slice from a DataFrame.\n",
            "Try using .loc[row_indexer,col_indexer] = value instead\n",
            "\n",
            "See the caveats in the documentation: https://pandas.pydata.org/pandas-docs/stable/user_guide/indexing.html#returning-a-view-versus-a-copy\n",
            "  X['Habits'] = label_encoder.fit_transform(X['Habits'])\n",
            "<ipython-input-10-2001446a22de>:5: SettingWithCopyWarning: \n",
            "A value is trying to be set on a copy of a slice from a DataFrame.\n",
            "Try using .loc[row_indexer,col_indexer] = value instead\n",
            "\n",
            "See the caveats in the documentation: https://pandas.pydata.org/pandas-docs/stable/user_guide/indexing.html#returning-a-view-versus-a-copy\n",
            "  X[col] = label_encoder.fit_transform(X[col])\n",
            "<ipython-input-10-2001446a22de>:5: SettingWithCopyWarning: \n",
            "A value is trying to be set on a copy of a slice from a DataFrame.\n",
            "Try using .loc[row_indexer,col_indexer] = value instead\n",
            "\n",
            "See the caveats in the documentation: https://pandas.pydata.org/pandas-docs/stable/user_guide/indexing.html#returning-a-view-versus-a-copy\n",
            "  X[col] = label_encoder.fit_transform(X[col])\n",
            "<ipython-input-10-2001446a22de>:5: SettingWithCopyWarning: \n",
            "A value is trying to be set on a copy of a slice from a DataFrame.\n",
            "Try using .loc[row_indexer,col_indexer] = value instead\n",
            "\n",
            "See the caveats in the documentation: https://pandas.pydata.org/pandas-docs/stable/user_guide/indexing.html#returning-a-view-versus-a-copy\n",
            "  X[col] = label_encoder.fit_transform(X[col])\n",
            "<ipython-input-10-2001446a22de>:5: SettingWithCopyWarning: \n",
            "A value is trying to be set on a copy of a slice from a DataFrame.\n",
            "Try using .loc[row_indexer,col_indexer] = value instead\n",
            "\n",
            "See the caveats in the documentation: https://pandas.pydata.org/pandas-docs/stable/user_guide/indexing.html#returning-a-view-versus-a-copy\n",
            "  X[col] = label_encoder.fit_transform(X[col])\n",
            "<ipython-input-10-2001446a22de>:5: SettingWithCopyWarning: \n",
            "A value is trying to be set on a copy of a slice from a DataFrame.\n",
            "Try using .loc[row_indexer,col_indexer] = value instead\n",
            "\n",
            "See the caveats in the documentation: https://pandas.pydata.org/pandas-docs/stable/user_guide/indexing.html#returning-a-view-versus-a-copy\n",
            "  X[col] = label_encoder.fit_transform(X[col])\n",
            "<ipython-input-10-2001446a22de>:5: SettingWithCopyWarning: \n",
            "A value is trying to be set on a copy of a slice from a DataFrame.\n",
            "Try using .loc[row_indexer,col_indexer] = value instead\n",
            "\n",
            "See the caveats in the documentation: https://pandas.pydata.org/pandas-docs/stable/user_guide/indexing.html#returning-a-view-versus-a-copy\n",
            "  X[col] = label_encoder.fit_transform(X[col])\n",
            "<ipython-input-10-2001446a22de>:5: SettingWithCopyWarning: \n",
            "A value is trying to be set on a copy of a slice from a DataFrame.\n",
            "Try using .loc[row_indexer,col_indexer] = value instead\n",
            "\n",
            "See the caveats in the documentation: https://pandas.pydata.org/pandas-docs/stable/user_guide/indexing.html#returning-a-view-versus-a-copy\n",
            "  X[col] = label_encoder.fit_transform(X[col])\n",
            "<ipython-input-10-2001446a22de>:5: SettingWithCopyWarning: \n",
            "A value is trying to be set on a copy of a slice from a DataFrame.\n",
            "Try using .loc[row_indexer,col_indexer] = value instead\n",
            "\n",
            "See the caveats in the documentation: https://pandas.pydata.org/pandas-docs/stable/user_guide/indexing.html#returning-a-view-versus-a-copy\n",
            "  X[col] = label_encoder.fit_transform(X[col])\n",
            "<ipython-input-10-2001446a22de>:5: SettingWithCopyWarning: \n",
            "A value is trying to be set on a copy of a slice from a DataFrame.\n",
            "Try using .loc[row_indexer,col_indexer] = value instead\n",
            "\n",
            "See the caveats in the documentation: https://pandas.pydata.org/pandas-docs/stable/user_guide/indexing.html#returning-a-view-versus-a-copy\n",
            "  X[col] = label_encoder.fit_transform(X[col])\n",
            "<ipython-input-10-2001446a22de>:5: SettingWithCopyWarning: \n",
            "A value is trying to be set on a copy of a slice from a DataFrame.\n",
            "Try using .loc[row_indexer,col_indexer] = value instead\n",
            "\n",
            "See the caveats in the documentation: https://pandas.pydata.org/pandas-docs/stable/user_guide/indexing.html#returning-a-view-versus-a-copy\n",
            "  X[col] = label_encoder.fit_transform(X[col])\n",
            "<ipython-input-10-2001446a22de>:5: SettingWithCopyWarning: \n",
            "A value is trying to be set on a copy of a slice from a DataFrame.\n",
            "Try using .loc[row_indexer,col_indexer] = value instead\n",
            "\n",
            "See the caveats in the documentation: https://pandas.pydata.org/pandas-docs/stable/user_guide/indexing.html#returning-a-view-versus-a-copy\n",
            "  X[col] = label_encoder.fit_transform(X[col])\n",
            "<ipython-input-10-2001446a22de>:5: SettingWithCopyWarning: \n",
            "A value is trying to be set on a copy of a slice from a DataFrame.\n",
            "Try using .loc[row_indexer,col_indexer] = value instead\n",
            "\n",
            "See the caveats in the documentation: https://pandas.pydata.org/pandas-docs/stable/user_guide/indexing.html#returning-a-view-versus-a-copy\n",
            "  X[col] = label_encoder.fit_transform(X[col])\n",
            "<ipython-input-10-2001446a22de>:5: SettingWithCopyWarning: \n",
            "A value is trying to be set on a copy of a slice from a DataFrame.\n",
            "Try using .loc[row_indexer,col_indexer] = value instead\n",
            "\n",
            "See the caveats in the documentation: https://pandas.pydata.org/pandas-docs/stable/user_guide/indexing.html#returning-a-view-versus-a-copy\n",
            "  X[col] = label_encoder.fit_transform(X[col])\n",
            "<ipython-input-10-2001446a22de>:5: SettingWithCopyWarning: \n",
            "A value is trying to be set on a copy of a slice from a DataFrame.\n",
            "Try using .loc[row_indexer,col_indexer] = value instead\n",
            "\n",
            "See the caveats in the documentation: https://pandas.pydata.org/pandas-docs/stable/user_guide/indexing.html#returning-a-view-versus-a-copy\n",
            "  X[col] = label_encoder.fit_transform(X[col])\n",
            "<ipython-input-10-2001446a22de>:5: SettingWithCopyWarning: \n",
            "A value is trying to be set on a copy of a slice from a DataFrame.\n",
            "Try using .loc[row_indexer,col_indexer] = value instead\n",
            "\n",
            "See the caveats in the documentation: https://pandas.pydata.org/pandas-docs/stable/user_guide/indexing.html#returning-a-view-versus-a-copy\n",
            "  X[col] = label_encoder.fit_transform(X[col])\n",
            "<ipython-input-10-2001446a22de>:5: SettingWithCopyWarning: \n",
            "A value is trying to be set on a copy of a slice from a DataFrame.\n",
            "Try using .loc[row_indexer,col_indexer] = value instead\n",
            "\n",
            "See the caveats in the documentation: https://pandas.pydata.org/pandas-docs/stable/user_guide/indexing.html#returning-a-view-versus-a-copy\n",
            "  X[col] = label_encoder.fit_transform(X[col])\n",
            "<ipython-input-10-2001446a22de>:5: SettingWithCopyWarning: \n",
            "A value is trying to be set on a copy of a slice from a DataFrame.\n",
            "Try using .loc[row_indexer,col_indexer] = value instead\n",
            "\n",
            "See the caveats in the documentation: https://pandas.pydata.org/pandas-docs/stable/user_guide/indexing.html#returning-a-view-versus-a-copy\n",
            "  X[col] = label_encoder.fit_transform(X[col])\n"
          ]
        }
      ],
      "source": [
        "# Encode categorical variables\n",
        "label_encoder = LabelEncoder()\n",
        "X['Habits'] = label_encoder.fit_transform(X['Habits'])\n",
        "for col in ['Symptom_1', 'Symptom_2', 'Symptom_3', 'Symptom_4', 'Symptom_5', 'Symptom_6', 'Symptom_7', 'Symptom_8', 'Symptom_9', 'Symptom_10', 'Symptom_11', 'Symptom_12', 'Symptom_13', 'Symptom_14', 'Symptom_15', 'Symptom_16', 'Symptom_17']:\n",
        "    X[col] = label_encoder.fit_transform(X[col])"
      ]
    },
    {
      "cell_type": "code",
      "execution_count": null,
      "metadata": {
        "id": "tptgyaWZgfaM",
        "colab": {
          "base_uri": "https://localhost:8080/"
        },
        "outputId": "0b3175e9-3133-4dce-c532-1ecfd9f1b6ec"
      },
      "outputs": [
        {
          "output_type": "stream",
          "name": "stderr",
          "text": [
            "<ipython-input-11-60cb87c1f38e>:3: SettingWithCopyWarning: \n",
            "A value is trying to be set on a copy of a slice from a DataFrame.\n",
            "Try using .loc[row_indexer,col_indexer] = value instead\n",
            "\n",
            "See the caveats in the documentation: https://pandas.pydata.org/pandas-docs/stable/user_guide/indexing.html#returning-a-view-versus-a-copy\n",
            "  X[['Age']] = scaler.fit_transform(X[['Age']])\n"
          ]
        }
      ],
      "source": [
        "# Scale numeric features\n",
        "scaler = StandardScaler()\n",
        "X[['Age']] = scaler.fit_transform(X[['Age']])\n",
        "y = scaler.fit_transform(np.array(y).reshape(-1, 1))"
      ]
    },
    {
      "cell_type": "code",
      "execution_count": null,
      "metadata": {
        "id": "UMyymJeFgjB4"
      },
      "outputs": [],
      "source": [
        "# Reshape input features for LSTM\n",
        "X = np.array(X)\n",
        "X = X.reshape(X.shape[0], 1, X.shape[1])"
      ]
    },
    {
      "cell_type": "code",
      "execution_count": null,
      "metadata": {
        "id": "RfLMaI2nglpV"
      },
      "outputs": [],
      "source": [
        "# Split the dataset into training and testing sets\n",
        "X_train, X_test, y_train, y_test = train_test_split(X, y, test_size=0.2, random_state=42)"
      ]
    },
    {
      "cell_type": "code",
      "execution_count": null,
      "metadata": {
        "id": "e8fhzy_zgqUD"
      },
      "outputs": [],
      "source": [
        "# Build the LSTM model\n",
        "model = Sequential()\n",
        "model.add(LSTM(units=50, activation='relu', input_shape=(X_train.shape[1], X_train.shape[2])))\n",
        "model.add(Dropout(0.2))\n",
        "model.add(Dense(1))\n"
      ]
    },
    {
      "cell_type": "code",
      "execution_count": null,
      "metadata": {
        "id": "d_LQ-nVVgu3h"
      },
      "outputs": [],
      "source": [
        "# Compile the model\n",
        "model.compile(optimizer='adam', loss='Huber')"
      ]
    },
    {
      "cell_type": "code",
      "execution_count": null,
      "metadata": {
        "id": "SqAIyEAugxeA"
      },
      "outputs": [],
      "source": [
        "# Train the model\n",
        "history = model.fit(X_train, y_train, epochs=50, batch_size=32, validation_data=(X_test, y_test),verbose=0)"
      ]
    },
    {
      "cell_type": "code",
      "source": [
        "loss = model.evaluate(X_test, y_test)\n",
        "print(\"Test Loss:\", loss)"
      ],
      "metadata": {
        "id": "7d_LOdNx8RId",
        "outputId": "75ae50cb-66e1-43ca-99cf-2da22ca23719",
        "colab": {
          "base_uri": "https://localhost:8080/"
        }
      },
      "execution_count": null,
      "outputs": [
        {
          "output_type": "stream",
          "name": "stdout",
          "text": [
            "93/93 [==============================] - 0s 2ms/step - loss: 1.7283\n",
            "Test Loss: 1.728342056274414\n"
          ]
        }
      ]
    },
    {
      "cell_type": "code",
      "execution_count": null,
      "metadata": {
        "id": "bIG12ucUpfLG",
        "colab": {
          "base_uri": "https://localhost:8080/",
          "height": 541
        },
        "outputId": "60df1c18-e2cd-4baf-f323-55a960d40d77"
      },
      "outputs": [
        {
          "output_type": "stream",
          "name": "stdout",
          "text": [
            "Enter age: 0\n",
            "Enter habits (Smoking/Drinking): Smoking\n",
            "Enter current disease: Tuberculosis\n",
            "(14760, 21)\n"
          ]
        },
        {
          "output_type": "display_data",
          "data": {
            "text/plain": [
              "<Figure size 640x480 with 1 Axes>"
            ],
            "image/png": "[encoded data removed]"
          },
          "metadata": {}
        }
      ],
      "source": [
        "import matplotlib.pyplot as plt\n",
        "\n",
        "def plot_severity_graph(age, habits, disease):\n",
        "    age_values = [age]\n",
        "    if age == 0:\n",
        "        age_values.extend([1, 2])\n",
        "    elif age == 1:\n",
        "        age_values.append(2)\n",
        "\n",
        "    for age_val in age_values:\n",
        "        filtered_data = df[(df['Age'] == age_val) & (df['Habits'] == habits) & (df['Disease'] == disease)]\n",
        "        if not filtered_data.empty:\n",
        "\n",
        "          plt.bar(filtered_data['Age'], filtered_data['Severity'] ,label=f'Age {age_val}')\n",
        "\n",
        "\n",
        "\n",
        "    plt.title(f\"Severity of {disease} based on Age ({age}) and Habits ({habits})\")\n",
        "    plt.xlabel(\"Age\")\n",
        "    plt.ylabel(\"Severity (%)\")\n",
        "    plt.legend()\n",
        "    plt.grid(True)\n",
        "    plt.show()\n",
        "\n",
        "age = int(input(\"Enter age: \"))\n",
        "habits = input(\"Enter habits (Smoking/Drinking): \").capitalize()\n",
        "current_disease = input(\"Enter current disease: \")\n",
        "print(df.shape)\n",
        "plot_severity_graph(age, habits, current_disease)\n"
      ]
    }
  ],
  "metadata": {
    "colab": {
      "provenance": []
    },
    "kernelspec": {
      "display_name": "Python 3",
      "name": "python3"
    },
    "language_info": {
      "name": "python"
    }
  },
  "nbformat": 4,
  "nbformat_minor": 0
}